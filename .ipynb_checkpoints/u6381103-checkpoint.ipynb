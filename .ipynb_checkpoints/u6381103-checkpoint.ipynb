{
 "cells": [
  {
   "cell_type": "markdown",
   "metadata": {},
   "source": [
    "# Assignment 1: Information Retrieval (10 marks)"
   ]
  },
  {
   "cell_type": "markdown",
   "metadata": {},
   "source": [
    "This assignment is based on the Assignment 1 Demo tutorials.\n",
    "\n",
    "In this assignment, your task is to index a new document collection into *Elasticsearch*, and then measure search performance based on predefined queries.\n",
    "\n",
    "A new document collection containing more than 10,000 goverment sites description, and a set of predefined queries, is provided for this assignment.\n",
    "\n",
    "Throughout this assginment: \n",
    "1. You will develop a better understanding of indexing, including the tokeniser, parser, and normaliser components, and how to improve the search performance given a predefined evaluation metric, \n",
    "2. You will develop a better understanding of search algorithms, and how to obtain better search results, and \n",
    "3. You will find the best way to combine an indexer and search algorithm to maximise your performance.\n",
    "\n",
    "Below, you will solve five programming questions, and three written questions. \n",
    "\n",
    "We will check the correctness of your code and the overall performance score.\n",
    "\n",
    "- Write your code after `### Your code here`, and remove `raise NotImplementedError` after implementation.\n",
    "- Write answers in this notebook file in the designated cells, and upload the file to the Wattle submission site. **Please rename and submit jupyter notebook file (`Assignment1.ipynb`) to `your_uid.ipynb` (e.g. `u1234567.ipynb`) with your written answers therein - FAILURE TO DO SO WILL RESULT IN -0.5 POINTS**. \n",
    "\n",
    "*Hint*: After finishing coding your notebook, select from the Jupyter Notebook interface the menu option Kernel -> Restart & Run All. After the execution of each block is finished, inspect the output, save the notebook and shutdown the kernel. Only now you can safely manipulate the .ipynb file, which contains code, explanations and output."
   ]
  },
  {
   "cell_type": "markdown",
   "metadata": {},
   "source": [
    "## Coding component (Q1 - Q5), 4 marks"
   ]
  },
  {
   "cell_type": "markdown",
   "metadata": {},
   "source": [
    "### Q1: Index Gov dataset (0.5 marks)\n",
    "\n",
    "For this assignment we will be working with a corpus of government documents, located in the gov folder. \n",
    "\n",
    "The gov folder contains three sub-folders; documents, qrels and topics. The documents folder consists of sub-folders, each of which contain multiple documents. Topics and qrels contain search queries and corresponding ground truth relevant documents, respectively.\n",
    "\n",
    "Your first job is to index the documents as we have done in the tutorial exercises (Assignment 1 Demo).\n",
    "\n",
    "Note that depending on your machine, indexing may take several minutes to a few hours. You may implement multi-threaded version of indexing to mitigate this problem.\n",
    "\n",
    "Below is provided the basic code configuration for indexing:"
   ]
  },
  {
   "cell_type": "code",
   "execution_count": 1,
   "metadata": {},
   "outputs": [],
   "source": [
    "# basic configuration for indexing\n",
    "basic_settings = {\n",
    "  \"mappings\": {\n",
    "    \"doc\": {\n",
    "      \"properties\": {\n",
    "        \"filename\": {\n",
    "          \"type\": \"keyword\",\n",
    "          \"index\": False,\n",
    "        },\n",
    "        \"path\": {\n",
    "          \"type\": \"keyword\",\n",
    "          \"index\": False,\n",
    "        },\n",
    "        \"text\": {\n",
    "          \"type\": \"text\",\n",
    "          \"similarity\": \"boolean\",\n",
    "          \"analyzer\": \"my_analyzer\",\n",
    "          \"search_analyzer\": \"my_analyzer\"\n",
    "        }\n",
    "      }\n",
    "    }\n",
    "  },\n",
    "  \"settings\": {\n",
    "    \"analysis\": {\n",
    "      \"analyzer\": {\n",
    "        \"my_analyzer\": {\n",
    "          \"filter\": [\n",
    "            \"stop\"\n",
    "          ],\n",
    "          \"char_filter\": [\n",
    "            \"html_strip\"\n",
    "          ],\n",
    "          \"type\": \"custom\",\n",
    "          \"tokenizer\": \"whitespace\"\n",
    "        }\n",
    "      }\n",
    "    }\n",
    "  }   \n",
    "}"
   ]
  },
  {
   "cell_type": "markdown",
   "metadata": {},
   "source": [
    "You need to implement the below function `build_gov_index`. Don't forget to remove `raise NotImplementedError` after implementation."
   ]
  },
  {
   "cell_type": "code",
   "execution_count": 2,
   "metadata": {},
   "outputs": [],
   "source": [
    "import os\n",
    "from collections import namedtuple\n",
    "\n",
    "#  A document class with following attributes:\n",
    "#   filename: document filename\n",
    "#   text: body of documment\n",
    "#   path: path of document\n",
    "\n",
    "Doc = namedtuple('Doc', 'filename path text')\n",
    "\n",
    "def read_doc(doc_path, encoding):\n",
    "    '''\n",
    "        reads a document from path\n",
    "        input:\n",
    "            - doc_path : path of document\n",
    "            - encoding: encoding\n",
    "        output: =>\n",
    "            - doc: instance of Doc namedtuple\n",
    "    '''\n",
    "    filename = doc_path.split('/')[-1]\n",
    "    fp = open(doc_path, 'r', encoding = encoding)\n",
    "    text = fp.read().strip()\n",
    "    fp.close()\n",
    "    return Doc(filename = filename, text = text, path = doc_path)\n",
    "\n",
    "def read_dataset(path, encoding = \"ISO-8859-1\"):\n",
    "    '''\n",
    "        reads multiple documents from path\n",
    "        input:\n",
    "            - doc_path : path of document\n",
    "            - encoding: encoding\n",
    "        output: =>\n",
    "            - docs: instances of Doc namedtuple returned as generator\n",
    "    '''\n",
    "    for root, dirs, files in os.walk(path):\n",
    "        for doc_path in files:\n",
    "            yield read_doc(root + '/' + doc_path, encoding)"
   ]
  },
  {
   "cell_type": "code",
   "execution_count": 47,
   "metadata": {},
   "outputs": [
    {
     "name": "stdout",
     "output_type": "stream",
     "text": [
      "index `gov` deleted\n",
      "index `gov` created\n",
      "Indexed 33848 docs to index 'gov'\n"
     ]
    }
   ],
   "source": [
    "from elasticsearch import Elasticsearch\n",
    "from elasticsearch import helpers\n",
    "\n",
    "ES_HOSTS = ['http://localhost:9200']\n",
    "DOCS_PATH = 'gov/documents'\n",
    "INDEX_NAME = 'gov'\n",
    "DOC_TYPE = 'doc'\n",
    "\n",
    "def build_gov_index(es_conn, index_name, doc_path, settings):\n",
    "    # TODO implement function that:\n",
    "    #  1. Create an index with `index_name`. If `index_name` already exists, remove the index first.\n",
    "    #  2. Index the documents under doc_path, including subfolders, into elasticsearch (hint: read demo carefully)\n",
    "    # Note that this function will be used throughout this assignment    \n",
    "    \n",
    "    # create the index if it doesn't exist\n",
    "    if es_conn.indices.exists(index_name):\n",
    "        es_conn.indices.delete(index = index_name)\n",
    "        print('index `{}` deleted'.format(index_name))\n",
    "    es_conn.indices.create(index = index_name, ignore = 400, body = settings)\n",
    "    print('index `{}` created'.format(index_name))     \n",
    "    \n",
    "    counter_idx_failed = 0, 0 # counters\n",
    "\n",
    "    # retrive & index documents\n",
    "    def gendata():\n",
    "        counter_read = 0\n",
    "        for doc in dataset:\n",
    "            yield {\n",
    "                \"_index\": index_name,\n",
    "                \"_type\": DOC_TYPE,\n",
    "                \"_id\" : doc.filename,\n",
    "                \"_source\": doc._asdict(),\n",
    "            }\n",
    "            counter_read += 1\n",
    "        \n",
    "   \n",
    "    res = helpers.bulk(es_conn, gendata())\n",
    "    print (\"Indexed {} docs to index '{}'\".format(res[0], index_name))\n",
    "    \n",
    "    # refresh after indexing\n",
    "    es_conn.indices.refresh(index=index_name)  \n",
    "\n",
    "es_conn = Elasticsearch(ES_HOSTS)\n",
    "dataset = read_dataset(DOCS_PATH)\n",
    "build_gov_index(es_conn, INDEX_NAME, dataset, basic_settings)"
   ]
  },
  {
   "cell_type": "code",
   "execution_count": 48,
   "metadata": {},
   "outputs": [
    {
     "data": {
      "text/plain": [
       "{'count': 33848,\n",
       " '_shards': {'total': 5, 'successful': 5, 'skipped': 0, 'failed': 0}}"
      ]
     },
     "execution_count": 48,
     "metadata": {},
     "output_type": "execute_result"
    }
   ],
   "source": [
    "es_conn.count()"
   ]
  },
  {
   "cell_type": "markdown",
   "metadata": {},
   "source": [
    "### Q2: Search and performance measure (0.5 marks)\n",
    "\n",
    "For this second task, you will first need to read the topics/gov.topics file. \n",
    "\n",
    "As we have done in the demo tutorial, each file is formatted as `query_id query_terms`, where\n",
    "query_id is a numerical number, and query_terms consists of multiple keywords as search terms. \n",
    "\n",
    "Your job is to read the query file and search using the provided search function. You will need to write the output of the search results to an output.txt file in the trec-eval standard format used in the demo tutorial. \n",
    "\n",
    "As a reminder, this means that each result of each query should be put in a line in the output.txt like this:\n",
    "\n",
    "`01 Q0 email09 0 1.23 my_IR_system1`\n",
    "\n",
    "`01 Q0 email09 1 1.11 my_IR_system1`\n",
    "\n",
    "`02 Q0 email07 0 1.08 my_IR_system1`\n",
    "\n",
    "where '01' is the query ID; ignore 'Q0'; 'emailxx' is the name of the file; '0' (or '1' or some other integer number) is the rank of this result; '1.23' (or '1.08' or some other number) is the score of this result; and 'my_IR_system1' is the name for your retrieval system. \n",
    "\n",
    "Note that you are only allowed to write 10-documents at most for each query. If your output file contains more than 10 documents per query, you will get 0 score for this question.\n",
    "\n",
    "**Please rename your output_q2.txt file to `YourUID_output_q2.txt` eg `u1234567_output_q2.txt`, before submitting to Wattle - FAILURE TO DO SO WILL RESULT IN -0.5 POINTS**.\n",
    "\n",
    "Below is some code to get you started and for you to complete:"
   ]
  },
  {
   "cell_type": "code",
   "execution_count": 64,
   "metadata": {},
   "outputs": [
    {
     "name": "stdout",
     "output_type": "stream",
     "text": [
      "mining gold silver coal\n",
      "\n",
      "juvenile delinquency\n",
      "\n",
      "wireless communications\n",
      "\n",
      "physical therapists\n",
      "\n",
      "cotton industry\n",
      "\n",
      "genealogy searches\n",
      "\n",
      "Physical Fitness\n",
      "\n",
      "Agricultural biotechnology\n",
      "\n",
      "Emergency and disaster preparedness assistance\n",
      "\n",
      "Shipwrecks\n",
      "\n",
      "Cybercrime, internet fraud, and cyber fraud\n",
      "\n",
      "Veteran's Benefits\n",
      "\n",
      "Air Bag Safety\n",
      "\n",
      "Nuclear power plants\n",
      "\n",
      "Early Childhood Education\n",
      "\n",
      "deafness in children\n",
      "\n",
      "wildlife conservation\n",
      "\n",
      "food safety\n",
      "\n",
      "Literacy\n",
      "\n",
      "arctic exploration\n",
      "\n",
      "global warming\n",
      "\n",
      "coin collecting\n",
      "\n",
      "weather hazards and extremes\n",
      "\n",
      "National Public Radio\\/TV\n",
      "\n",
      "Electric Automobiles\n",
      "\n",
      "homelessness\n",
      "\n",
      "forest fires\n",
      "\n",
      "Ozone layer\n",
      "\n",
      "trains\\/railroads\n",
      "\n",
      "robots\n",
      "\n",
      "anthrax\n",
      "\n"
     ]
    }
   ],
   "source": [
    "def search(query_string, es_conn, index_name):\n",
    "    '''\n",
    "        searches for query_string with default search algorithm\n",
    "        input:\n",
    "            - query_string: a query\n",
    "            - es_conn: elasticsearch connection\n",
    "            - index_name: name of index\n",
    "        output:\n",
    "            - a generator of tuple (filename, score)\n",
    "\n",
    "    '''\n",
    "    res = es_conn.search(index = index_name,\n",
    "        body = {\n",
    "            \"_source\": [ \"filename\"],\n",
    "            \"query\": {\n",
    "                \"query_string\": {\n",
    "                    \"query\": query_string,\n",
    "                }\n",
    "            }\n",
    "        }\n",
    "    )\n",
    "    return res['hits']['hits']\n",
    "\n",
    "# TODO: \n",
    "#       Read query file from `query_path`, search using `search_fn`, and \n",
    "#       Write top 10 outputs per query to `output_file`\n",
    "#       Note that the function takes a search function as an argument. You can directly call the search function\n",
    "#       as `result = search_fn(query_string, es_conn, index_name)` within the function.\n",
    "#       This function will be used throughout this assignment\n",
    "def read_search_write_output(search_fn, query_path, output_file):\n",
    "    with open(query_path, 'r') as f:\n",
    "            query_strings = f.readlines()\n",
    "    \n",
    "    with open(output_file, 'w') as output:\n",
    "        for query_string in query_strings:\n",
    "            query_terms = query_string[query_string.index(' ')+1:]\n",
    "            print(query_terms)\n",
    "            matches = search_fn(query_string, es_conn, INDEX_NAME)\n",
    "            if matches is not None:\n",
    "                for match in matches:\n",
    "                    output.write('{} Q0 {} 0 {} my_IR_system\\n'.format(\n",
    "                        query_string.split(' ')[0],\n",
    "                        match['_source']['filename'], # filename\n",
    "                        match['_score'], # score\n",
    "                    ))\n",
    "        \n",
    "\n",
    "query_path = 'gov/topics/gov.topics'\n",
    "output_file = 'u6381103_output_q2.txt'\n",
    "read_search_write_output(search, query_path, output_file)"
   ]
  },
  {
   "cell_type": "markdown",
   "metadata": {},
   "source": [
    "Once you have written the results of your query to an output file, you can run trec-eval on your output file and the provided gov.qrel file to evaluate your system. Trec-eval provides many different measures of quality, but for the purposes of this assignment you will use precision@10 (p_10 in trec-eval output) to measure the performance of your systems."
   ]
  },
  {
   "cell_type": "code",
   "execution_count": 70,
   "metadata": {},
   "outputs": [
    {
     "name": "stdout",
     "output_type": "stream",
     "text": [
      "runid                 \tall\tmy_IR_system\n",
      "num_q                 \tall\t31\n",
      "num_ret               \tall\t310\n",
      "num_rel               \tall\t190\n",
      "num_rel_ret           \tall\t8\n",
      "map                   \tall\t0.0107\n",
      "gm_map                \tall\t0.0001\n",
      "Rprec                 \tall\t0.0269\n",
      "bpref                 \tall\t0.0356\n",
      "recip_rank            \tall\t0.0573\n",
      "iprec_at_recall_0.00  \tall\t0.0573\n",
      "iprec_at_recall_0.10  \tall\t0.0466\n",
      "iprec_at_recall_0.20  \tall\t0.0108\n",
      "iprec_at_recall_0.30  \tall\t0.0108\n",
      "iprec_at_recall_0.40  \tall\t0.0108\n",
      "iprec_at_recall_0.50  \tall\t0.0000\n",
      "iprec_at_recall_0.60  \tall\t0.0000\n",
      "iprec_at_recall_0.70  \tall\t0.0000\n",
      "iprec_at_recall_0.80  \tall\t0.0000\n",
      "iprec_at_recall_0.90  \tall\t0.0000\n",
      "iprec_at_recall_1.00  \tall\t0.0000\n",
      "P_5                   \tall\t0.0258\n",
      "P_10                  \tall\t0.0258\n",
      "P_15                  \tall\t0.0172\n",
      "P_20                  \tall\t0.0129\n",
      "P_30                  \tall\t0.0086\n",
      "P_100                 \tall\t0.0026\n",
      "P_200                 \tall\t0.0013\n",
      "P_500                 \tall\t0.0005\n",
      "P_1000                \tall\t0.0003\n"
     ]
    }
   ],
   "source": [
    "!.\\trec_eval\\trec_eval ./gov/qrels/gov.qrels u6381103_output_q2.txt"
   ]
  },
  {
   "cell_type": "markdown",
   "metadata": {},
   "source": [
    "### Q3: Improving the search algorithm: compare similarity algorithms (1 mark)\n",
    "\n",
    "*Elasticsearch* also provides multiple configurable scoring algorithms. \n",
    "\n",
    "For this task, you will be asked to find a better similarity module to improve the search performance. Please refer [here](https://www.elastic.co/guide/en/elasticsearch/reference/current/similarity.html) for a better understanding of the configurable elasticsearch similarity modules.\n",
    "\n",
    "Here's some code to get you started and for you to complete:"
   ]
  },
  {
   "cell_type": "code",
   "execution_count": 103,
   "metadata": {},
   "outputs": [],
   "source": [
    "# TODO: define your own analyzer for indexing and searching\n",
    "q3_settings = {\n",
    "  \"mappings\": {\n",
    "    \"doc\": {\n",
    "      \"properties\": {\n",
    "        \"filename\": {\n",
    "          \"type\": \"keyword\",\n",
    "          \"index\": False,\n",
    "        },\n",
    "        \"path\": {\n",
    "          \"type\": \"keyword\",\n",
    "          \"index\": False,\n",
    "        },\n",
    "        \"text\": {\n",
    "            \"type\": \"text\",\n",
    "            \"similarity\": \"boolean\"\n",
    "        }\n",
    "      }\n",
    "    }\n",
    "  },\n",
    "  \"settings\": {\n",
    "    \"analysis\": {\n",
    "      \"analyzer\": {\n",
    "        \"my_analyzer\": {\n",
    "          \"filter\": [\n",
    "            \"stop\"\n",
    "          ],\n",
    "          \"char_filter\": [\n",
    "            \"html_strip\"\n",
    "          ],\n",
    "          \"type\": \"custom\",\n",
    "          \"tokenizer\": \"whitespace\"\n",
    "        }\n",
    "      }\n",
    "    }\n",
    "  }\n",
    "}"
   ]
  },
  {
   "cell_type": "code",
   "execution_count": 104,
   "metadata": {},
   "outputs": [
    {
     "name": "stdout",
     "output_type": "stream",
     "text": [
      "index `gov` created\n",
      "indexed 0 docs to index `gov`, failed to index 0 docs\n",
      "mining gold silver coal\n",
      "\n",
      "juvenile delinquency\n",
      "\n",
      "wireless communications\n",
      "\n",
      "physical therapists\n",
      "\n",
      "cotton industry\n",
      "\n",
      "genealogy searches\n",
      "\n",
      "Physical Fitness\n",
      "\n",
      "Agricultural biotechnology\n",
      "\n",
      "Emergency and disaster preparedness assistance\n",
      "\n",
      "Shipwrecks\n",
      "\n",
      "Cybercrime, internet fraud, and cyber fraud\n",
      "\n",
      "Veteran's Benefits\n",
      "\n",
      "Air Bag Safety\n",
      "\n",
      "Nuclear power plants\n",
      "\n",
      "Early Childhood Education\n",
      "\n",
      "deafness in children\n",
      "\n",
      "wildlife conservation\n",
      "\n",
      "food safety\n",
      "\n",
      "Literacy\n",
      "\n",
      "arctic exploration\n",
      "\n",
      "global warming\n",
      "\n",
      "coin collecting\n",
      "\n",
      "weather hazards and extremes\n",
      "\n",
      "National Public Radio\\/TV\n",
      "\n",
      "Electric Automobiles\n",
      "\n",
      "homelessness\n",
      "\n",
      "forest fires\n",
      "\n",
      "Ozone layer\n",
      "\n",
      "trains\\/railroads\n",
      "\n",
      "robots\n",
      "\n",
      "anthrax\n",
      "\n"
     ]
    }
   ],
   "source": [
    "# TODO: run this block to generate an output based on q3_settings defined above.\n",
    "es_conn = Elasticsearch(ES_HOSTS)\n",
    "dataset = read_dataset(DOCS_PATH)\n",
    "\n",
    "build_gov_index(es_conn, INDEX_NAME, DOCS_PATH, q3_settings)\n",
    "read_search_write_output(search, query_path, output_file)"
   ]
  },
  {
   "cell_type": "code",
   "execution_count": null,
   "metadata": {},
   "outputs": [],
   "source": [
    "!./trec_eval/trec_eval ./gov/qrels/gov.qrels output.txt"
   ]
  },
  {
   "cell_type": "markdown",
   "metadata": {},
   "source": [
    "Upload the final output to Wattle, but **please first rename output_file to YourUID_output_q3.txt eg u1234567_output_q3.txt - FAILURE TO DO SO WILL RESULT IN -0.5 POINTS**."
   ]
  },
  {
   "cell_type": "markdown",
   "metadata": {},
   "source": [
    "### Q4: Improving the indexer: compare different ways of indexing (1 mark)\n",
    "\n",
    "For this part, you will be asked to change the configuration of indexer (`basic_settings`) to improve the search performance.\n",
    "\n",
    "Please look at the elastic search official document [here](https://www.elastic.co/guide/en/elasticsearch/reference/current/analysis.html) for better understanding of configuration and other options.\n",
    "\n",
    "Note that you can check how your tokeniser tokenises your input string via the `analyze_query` function provided in the demo code."
   ]
  },
  {
   "cell_type": "code",
   "execution_count": null,
   "metadata": {},
   "outputs": [],
   "source": [
    "# TODO: configure settings to define your own analyzer for indexing\n",
    "q4_settings = {\n",
    "  \"mappings\": {\n",
    "    \"doc\": {\n",
    "      \"properties\": {\n",
    "        \"filename\": {\n",
    "          \"type\": \"keyword\",\n",
    "          \"index\": False,\n",
    "        },\n",
    "        \"path\": {\n",
    "          \"type\": \"keyword\",\n",
    "          \"index\": False,\n",
    "        },\n",
    "        \"text\": {\n",
    "            # YOUR CODE HERE\n",
    "            raise NotImplementedError()\n",
    "        }\n",
    "      }\n",
    "    }\n",
    "  },\n",
    "  \"settings\": {\n",
    "    \"analysis\": {\n",
    "      \"analyzer\": {\n",
    "          \"my_analyzer\": {\n",
    "            # YOUR CODE HERE\n",
    "            raise NotImplementedError()\n",
    "        }\n",
    "      }\n",
    "    }\n",
    "  }\n",
    "}"
   ]
  },
  {
   "cell_type": "code",
   "execution_count": null,
   "metadata": {},
   "outputs": [],
   "source": [
    "# TODO: run this block to generate an output based on q4_settings and my_search defined above.\n",
    "build_gov_index(es_conn, INDEX_NAME, DOCS_PATH, q4_settings)\n",
    "read_search_write_output(search, query_path, output_file)"
   ]
  },
  {
   "cell_type": "code",
   "execution_count": null,
   "metadata": {},
   "outputs": [],
   "source": [
    "!./trec_eval/trec_eval ./gov/qrels/gov.qrels output.txt"
   ]
  },
  {
   "cell_type": "markdown",
   "metadata": {},
   "source": [
    "Upload the final output to Wattle, but **please first rename output_file to YourUID_output_q4.txt eg u1234567_output_q3.txt - FAILURE TO DO SO WILL RESULT IN -0.5 POINTS**."
   ]
  },
  {
   "cell_type": "markdown",
   "metadata": {},
   "source": [
    "### Q5: Tolerant retrieval: wildcard queries (1 mark)\n",
    "\n",
    "*Elasticsearch* provides wildcard query search. You can use wildcard expressions cosisting of '*' and '?' to search.  \n",
    "\n",
    "For this task, you can reuse the previous index, i.e., *q4_settings*. Refer to the [link](https://www.elastic.co/guide/en/elasticsearch/reference/6.3/query-dsl-wildcard-query.html) to see how to search with wildcard queries. \n",
    "\n",
    "For each query term from 'gov.topics', replace last two characters with any wildcard expression. For example, the first topic from 'gov.topics' is 'mining gold silver coal'. Instead, you search 'mini&ast; go?? silv&ast; co??'. "
   ]
  },
  {
   "cell_type": "code",
   "execution_count": null,
   "metadata": {},
   "outputs": [],
   "source": [
    "def my_search(query_string, es_conn, index_name):\n",
    "    res = es_conn.search(index = index_name,\n",
    "        body = {\n",
    "            \"_source\": [ \"filename\"],\n",
    "            \"query\": {\n",
    "                \"query_string\": {\n",
    "                    \"query\": query_string,\n",
    "                }\n",
    "            }\n",
    "        }\n",
    "    )\n",
    "    return res['hits']['hits']"
   ]
  },
  {
   "cell_type": "code",
   "execution_count": null,
   "metadata": {},
   "outputs": [],
   "source": [
    "# TODO: run this block to generate the output\n",
    "read_search_write_output(my_search, query_path, output_file)"
   ]
  },
  {
   "cell_type": "code",
   "execution_count": null,
   "metadata": {},
   "outputs": [],
   "source": [
    "!./trec_eval/trec_eval ./gov/qrels/gov.qrels output.txt"
   ]
  },
  {
   "cell_type": "markdown",
   "metadata": {},
   "source": [
    "## Written component (Q6 - Q9), 6 marks\n",
    "\n",
    "Answer the following questions based on your implementation of Questions 1-5:"
   ]
  },
  {
   "cell_type": "markdown",
   "metadata": {},
   "source": [
    "### Q6 (1.5 marks): What changs did you make to the search similarity to improve the performance of the system? Why do you think it improved the performance?\n",
    "\n",
    "(provide answers below using bullet points with 2~3 items)"
   ]
  },
  {
   "cell_type": "markdown",
   "metadata": {},
   "source": [
    "INSERT ANSWERS TO Q6 HERE"
   ]
  },
  {
   "cell_type": "markdown",
   "metadata": {},
   "source": [
    "### Q7 (1.5 marks): What changes did you make to the indexer to improve the performance of the system? Why do you think it improved the performance?\n",
    "\n",
    "(provide answer below using bullet points with 2~3 items (Check [this](https://sourceforge.net/p/jupiter/wiki/markdown_syntax/#md_ex_lists) if you are not familiar with markdown syntax))"
   ]
  },
  {
   "cell_type": "markdown",
   "metadata": {},
   "source": [
    "INSERT ANSWERS TO Q7 HERE"
   ]
  },
  {
   "cell_type": "markdown",
   "metadata": {},
   "source": [
    "### Q8 (1.5 marks): Apart from Precision@10, what other metrics can be used to measure the performance of the developed IR system for the government document collection? Provide two metrics and explain why they would be suited for this particular government IR system.\n",
    "\n",
    "(provide answers below using bullet points with 2~3 items)"
   ]
  },
  {
   "cell_type": "markdown",
   "metadata": {},
   "source": [
    "INSERT ANSWERS TO Q8 HERE"
   ]
  },
  {
   "cell_type": "markdown",
   "metadata": {},
   "source": [
    "### Q9 (1.5 marks): How do wildcard queries affect performance of the retrieval in terms of measures you answered for Q8? Also provide some situations when wildcard queries are useful. "
   ]
  },
  {
   "cell_type": "markdown",
   "metadata": {},
   "source": [
    "INSERT ANSWERS TO Q9 HERE"
   ]
  },
  {
   "cell_type": "markdown",
   "metadata": {},
   "source": [
    "**Academic Misconduct Policy**: All submitted written work and code must be your own (except for any provided starter code, of course) – submitting work other than your own will lead to both a failure on the assignment and a referral of the case to the ANU academic misconduct review procedures: ANU Academic Misconduct Procedures"
   ]
  }
 ],
 "metadata": {
  "kernelspec": {
   "display_name": "Python 3",
   "language": "python",
   "name": "python3"
  },
  "language_info": {
   "codemirror_mode": {
    "name": "ipython",
    "version": 3
   },
   "file_extension": ".py",
   "mimetype": "text/x-python",
   "name": "python",
   "nbconvert_exporter": "python",
   "pygments_lexer": "ipython3",
   "version": "3.7.3"
  }
 },
 "nbformat": 4,
 "nbformat_minor": 2
}
